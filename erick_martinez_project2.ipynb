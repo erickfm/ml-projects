{
 "cells": [
  {
   "cell_type": "markdown",
   "metadata": {
    "id": "iNALzZOKTzOS"
   },
   "source": [
    "# Project 2: Digit Classification Naive Bayes\n",
    "\n",
    "**Solution**"
   ]
  },
  {
   "cell_type": "markdown",
   "metadata": {
    "id": "EBRkdIUUTzOV"
   },
   "source": [
    "# Intro\n",
    "---\n",
    "In this project, you'll continue working on your own image recognition system for classifying digits. Read through the code and the instructions carefully and add your own code where indicated. Each problem can be addressed succinctly with the included packages -- please don't add any more. \n",
    "As always, you're welcome to work on the project in groups and discuss ideas over Slack, but <b> please prepare your own write-up (with your own code). </b>\n",
    "\n",
    "\n",
    "## Grading\n",
    "---\n",
    " - Make sure to answer every part in every question.\n",
    " - There are 6 questions, each equally weighted and an additional bonus question.\n",
    " - The extra credit question will be graded based on your attempts at feature engineering and resulting improved accuracy.\n",
    " - Read carefully what is asked including the notes.\n",
    " - Additional points may be deducted if:\n",
    "   - the code is not clean, well commented,\n",
    "  -  if the functions or answers are too long.\n",
    "\n",
    "## Requirements:\n",
    "---\n",
    "1. Comment your code.\n",
    "1. All graphs should have titles, label for each axis, and if needed a legend. It should be understandable on its own.\n",
    "1. All code must run on colab.research.google.com\n",
    "1. You should not import any additional libraries.\n",
    "1. Try and minimize the use of the global namespace (meaning keep things in functions).\n",
    "\n",
    "## Additional Reading and notes\n",
    "---\n",
    "If you're interested, check out these links related to digit recognition:\n",
    "\n",
    "* Yann Lecun's MNIST benchmarks: http://yann.lecun.com/exdb/mnist/\n",
    "* Stanford Streetview research and data: http://ufldl.stanford.edu/housenumbers/\n",
    "\n",
    "Finally, if you'd like to get started with Tensorflow, you can read through this tutorial: https://www.tensorflow.org/tutorials/keras/basic_classification. It uses a dataset called \"fashion_mnist\", which is identical in structure to the original digit mnist, but uses images of clothing rather than images of digits. The number of training examples and number of labels is the same. In fact, you can simply replace the code that loads \"fashion_mnist\" with \"mnist\" and everything should work fine."
   ]
  },
  {
   "cell_type": "code",
   "execution_count": 1,
   "metadata": {
    "id": "r8u7GmsDTzOX"
   },
   "outputs": [],
   "source": [
    "# This tells matplotlib not to try opening a new window for each plot.\n",
    "%matplotlib inline\n",
    "\n",
    "# Import a bunch of libraries.\n",
    "import time\n",
    "import numpy as np\n",
    "import pandas as pd\n",
    "import matplotlib.pyplot as plt\n",
    "from matplotlib.ticker import MultipleLocator\n",
    "from sklearn.pipeline import Pipeline\n",
    "from sklearn.datasets import fetch_openml\n",
    "from sklearn.neighbors import KNeighborsClassifier\n",
    "from sklearn.metrics import confusion_matrix\n",
    "from sklearn.linear_model import LinearRegression\n",
    "from sklearn.naive_bayes import BernoulliNB\n",
    "from sklearn.naive_bayes import MultinomialNB\n",
    "from sklearn.naive_bayes import GaussianNB\n",
    "from sklearn.model_selection import GridSearchCV\n",
    "from sklearn.metrics import classification_report\n",
    "\n",
    "# Set the randomizer seed so results are the same each time.\n",
    "np.random.seed(0)"
   ]
  },
  {
   "cell_type": "code",
   "execution_count": 2,
   "metadata": {
    "id": "bWOWoq_dTzOY"
   },
   "outputs": [
    {
     "data": {
      "text/plain": [
       "'0.23.2'"
      ]
     },
     "execution_count": 2,
     "metadata": {},
     "output_type": "execute_result"
    }
   ],
   "source": [
    "import sklearn\n",
    "sklearn.__version__"
   ]
  },
  {
   "cell_type": "markdown",
   "metadata": {
    "id": "J1-CAjA9TzOa"
   },
   "source": [
    "Load the data. Notice that the data gets partitioned into training, development, and test sets. Also, a small subset of the training data called mini_train_data and mini_train_labels gets defined, which you should use in all the experiments below, unless otherwise noted."
   ]
  },
  {
   "cell_type": "code",
   "execution_count": 3,
   "metadata": {
    "id": "f9kPmCW0TzOb"
   },
   "outputs": [
    {
     "name": "stdout",
     "output_type": "stream",
     "text": [
      "data shape:  (70000, 784)\n",
      "label shape: (70000,)\n"
     ]
    }
   ],
   "source": [
    "# Load the digit data from https://www.openml.org/d/554 or from default local location '~/scikit_learn_data/...'\n",
    "X, Y = fetch_openml(name='mnist_784', return_X_y=True, cache=False)\n",
    "\n",
    "# Rescale grayscale values to [0,1].\n",
    "X = X / 255.0\n",
    "\n",
    "# Shuffle the input: create a random permutation of the integers between 0 and the number of data points and apply this\n",
    "# permutation to X and Y.\n",
    "# NOTE: Each time you run this cell, you'll re-shuffle the data, resulting in a different ordering.\n",
    "shuffle = np.random.permutation(np.arange(X.shape[0]))\n",
    "X, Y = X[shuffle], Y[shuffle]\n",
    "\n",
    "print('data shape: ', X.shape)\n",
    "print('label shape:', Y.shape)\n",
    "\n",
    "# Set some variables to hold test, dev, and training data.\n",
    "test_data, test_labels = X[61000:], Y[61000:]\n",
    "dev_data, dev_labels = X[60000:61000], Y[60000:61000]\n",
    "train_data, train_labels = X[:60000], Y[:60000]\n",
    "mini_train_data, mini_train_labels = X[:1000], Y[:1000]"
   ]
  },
  {
   "cell_type": "markdown",
   "metadata": {
    "id": "gr40-NstTzOl"
   },
   "source": [
    "### Question 1: Applying a smoothing using numpy.\n",
    "---\n",
    "\n",
    "A common image processing technique is to smooth an image by **blurring**. The idea is that the value of a particular pixel is estimated as the weighted combination of the original value and the values around it. Typically, the blurring is Gaussian, i.e., the weight of a pixel's influence is determined by a Gaussian function over the distance to the relevant pixel.\n",
    "\n",
    "1. Implement a simplified Gaussian blur filter by just using the 8 neighboring pixels like this: the smoothed value of a pixel is a weighted combination of the original value and the 8 neighboring values.\n",
    "1. Choose some weights as a starting point. Produce and evaluate four 1-Nearest Neighbor models by applying your blur filter in these ways:\n",
    "  1. Do not use the filter\n",
    "  1. Filter the training data but not the dev data\n",
    "  1. Filter the dev data but not the training data\n",
    "  1. Filter both training data and dev data\n",
    "1. Show the accuracies of the four models evaluated as described. What do you see? Can you explain why this is?\n",
    "1. Experiment with weights that makes one model's accuracy at least 0.9.\n",
    "\n",
    "Notes:\n",
    "* Train on the (filtered) mini train set.\n",
    "* Evaluate performance on the (filtered) dev set.\n",
    "* A good trick to simplify your code is to use numpy's pad function to add 0s around your original array so you don't have to deal with \"edge cases\".\n",
    "* In addition, you can use numpy to multiply and sum slices of two arrays.\n",
    "* [This notebook](https://colab.research.google.com/drive/1eJXTQLtREXQjQIsLOA9uCrBl6B049-pO) might help shows some example numpy code.\n",
    "* In general, [numpy operations will be much faster than for loops](https://colab.research.google.com/drive/1KJI4JtuIqVdyZHTTe_mAlKYA5XdLFp3_). \n",
    "* There are other Guassian blur filters available, for example in `scipy.ndimage.filters`. You are welcome to experiment with those, but in this question, please implement your own."
   ]
  },
  {
   "cell_type": "code",
   "execution_count": 18,
   "metadata": {
    "id": "ebHGUU0eTzOl"
   },
   "outputs": [
    {
     "name": "stdout",
     "output_type": "stream",
     "text": [
      "Model A Accuracy: 0.884\n",
      "Model B Accuracy: 0.774\n",
      "Model C Accuracy: 0.697\n",
      "Model D Accuracy: 0.901\n"
     ]
    }
   ],
   "source": [
    "def Q1():\n",
    "    \n",
    "### STUDENT START ###\n",
    "\n",
    "    # set kernel for convolution\n",
    "    kernel = np.array([[.1,.1,.1],[.1,.2,.1],[.1,.1,.1]])\n",
    "\n",
    "    # creating my knn models\n",
    "    knn_1 = KNeighborsClassifier(1)\n",
    "    knn_2 = KNeighborsClassifier(1)\n",
    "    knn_3 = KNeighborsClassifier(1)\n",
    "    knn_4 = KNeighborsClassifier(1)\n",
    "    \n",
    "    # fitting my models with filtered and unfiltered datasets\n",
    "    mini_train_data_gf = np.array([image_convolution(i.reshape((28,-1)),kernel).reshape(-1) for i in mini_train_data])\n",
    "    dev_data_gf = np.array([image_convolution(i.reshape((28,-1)),kernel).reshape(-1) for i in dev_data])\n",
    "    \n",
    "    fitted_1 = knn_1.fit(mini_train_data, mini_train_labels)\n",
    "    fitted_2 = knn_2.fit(mini_train_data_gf, mini_train_labels)\n",
    "    fitted_3 = knn_3.fit(mini_train_data, mini_train_labels)\n",
    "    fitted_4 = knn_4.fit(mini_train_data_gf, mini_train_labels)\n",
    "    \n",
    "    # evaluating my knn\n",
    "    accuracy_1 = fitted_1.score(dev_data, dev_labels)\n",
    "    accuracy_2 = fitted_2.score(dev_data, dev_labels)\n",
    "    accuracy_3 = fitted_3.score(dev_data_gf, dev_labels)\n",
    "    accuracy_4 = fitted_4.score(dev_data_gf, dev_labels)\n",
    "    \n",
    "    print('Model A Accuracy:',accuracy_1)\n",
    "    print('Model B Accuracy:',accuracy_2)\n",
    "    print('Model C Accuracy:',accuracy_3)\n",
    "    print('Model D Accuracy:',accuracy_4)\n",
    "\n",
    "\n",
    "def image_convolution(matrix, kernel=np.array([[.1,.1,.1],[.1,.2,.1],[.1,.1,.1]])):\n",
    "    # assuming kernel is symmetric and length is odd\n",
    "    k_size = len(kernel)\n",
    "    m_height, m_width = matrix.shape\n",
    "    padded = np.pad(matrix, (k_size-1, k_size-1))\n",
    "    \n",
    "    # iterate though the padded matrix performing the convolution method detailed here:\n",
    "    # https://en.wikipedia.org/wiki/Kernel_(image_processing)#Convolution\n",
    "    output = []\n",
    "    for i in range(m_height):\n",
    "        for j in range(m_width):\n",
    "            output.append(np.sum(padded[i:k_size+i,j:k_size+j]*kernel))\n",
    "            \n",
    "    output=np.array(output).reshape((m_height,m_width))\n",
    "    return output\n",
    "\n",
    "### STUDENT END ###\n",
    "\n",
    "Q1()"
   ]
  },
  {
   "cell_type": "markdown",
   "metadata": {},
   "source": [
    "### Question 1\n",
    "Model accuracy goes down for model B (when training data is filtered) and model C (when dev data is filtered). This is expected due to the mismatch between training and test datasets. That being said, it appears that when both datasets are filtered the model does a better job overall at predicting the digits correctly. When the training data better matches what the test data looks like, the model will perform better. "
   ]
  },
  {
   "cell_type": "markdown",
   "metadata": {
    "id": "aN3HZPGuTzOn"
   },
   "source": [
    "### Question 2: Modeling your data and experimenting with different Naive Bayes models. \n",
    "---\n",
    "\n",
    "1. Produce two Naive Bayes models and evaluate their performances.  Recall that Naive Bayes estimates P(feature|label), where each label is a categorical, not a real number.\n",
    "  1. For the first model, map pixel values to either 0 or 1, representing white or black - you should pre-process the data or use `BernoulliNB`'s `binarize` parameter to set the white/black separation threshold to 0.1.  Use `BernoulliNB` to produce the model.\n",
    "  1. For the second model, map pixel values to either 0, 1, or 2, representing white, gray, or black - you should pre-process the data, seting the white/gray/black separation thresholds to 0.1 and 0.9.  Here you'll likely need to implement a `trianarize` helper function. Since we are going beyond the binary representation of our features, you should use `MultinomialNB` to produce the model.\n",
    "1. Show the Bernoulli model accuracy and the Multinomial model accuracy.\n",
    "1. Does the multinomial version improve the results? Why or why not?\n",
    "\n",
    "Notes:\n",
    "* Train on the mini train set.\n",
    "* Evaluate performance on the dev set.\n",
    "\n"
   ]
  },
  {
   "cell_type": "code",
   "execution_count": 13,
   "metadata": {
    "id": "_1edM3ehTzOn"
   },
   "outputs": [
    {
     "name": "stdout",
     "output_type": "stream",
     "text": [
      "bernoulli accuracy: 0.814\n",
      "multinomial accuracy: 0.797\n"
     ]
    }
   ],
   "source": [
    "# Solution with binarization by explicit binarize function\n",
    "\n",
    "def Q2():\n",
    "\n",
    "### STUDENT START ###\n",
    "\n",
    "    # create the models, fit the models, score the models\n",
    "    bnb_b = BernoulliNB(binarize = 0.1)\n",
    "    bnb_b.fit(mini_train_data, mini_train_labels)\n",
    "    accuracy_bnb_b = bnb_b.score(dev_data,dev_labels)\n",
    "\n",
    "    bnb_t = MultinomialNB()\n",
    "    bnb_t.fit(np.array([trianarize(i) for i in mini_train_data]), mini_train_labels)\n",
    "    accuracy_bnb_t = bnb_t.score(dev_data,dev_labels)\n",
    "    \n",
    "    print('bernoulli accuracy:',accuracy_bnb_b)\n",
    "    print('multinomial accuracy:',accuracy_bnb_t)\n",
    "\n",
    "def trianarize(array):\n",
    "    # make a copy of our array, set array values according to threshold limits\n",
    "    a=np.array([i for i in array])\n",
    "    a[a <= 0.1] = 0\n",
    "    a[(a > 0.1) & (a < 0.9)] = 1\n",
    "    a[a >= 0.9] = 2\n",
    "\n",
    "    return a\n",
    "    \n",
    "### STUDENT END ###\n",
    "\n",
    "Q2()"
   ]
  },
  {
   "cell_type": "markdown",
   "metadata": {
    "id": "Bbbpzl5ETzOp"
   },
   "source": [
    "ANSWER: No the multinomial version did not improve the results. A multinomial distribution is a decent assumption, considering our dataset is grayscale, however, a binomial distribution is a better assumption, since for the writing of digits there are primarily two classes. The pixels where there is no digit marks are 0 and the pixels where there is a digit mark are 1."
   ]
  },
  {
   "cell_type": "markdown",
   "metadata": {
    "id": "ymzuQZwsTzOp"
   },
   "source": [
    "### Question 3: Applying the grid search technique.\n",
    "1. Search across several values of the LaPlace smoothing parameter (alpha) to find its effect on a Bernoulli Naive Bayes model's performance.  Show the accuracy at each alpha value.\n",
    "1. What is the best value for alpha? What is the accuracy when alpha is near 0? Is this what you'd expect?\n",
    "\n",
    "Notes:\n",
    "* Set binarization threshold to 0.\n",
    "* Train on the mini train set.\n",
    "* Evaluate performance by 5-fold cross-validation. \n",
    "* Use `GridSearchCV(..., ..., cv=..., scoring='accuracy', iid=False)` to vary alpha and evaluate performance by cross-validation.\n",
    "* Cross-validation is based on partitions of the training data, so results will be a bit different than if you had used the dev set to evaluate performance.\n",
    "\n"
   ]
  },
  {
   "cell_type": "code",
   "execution_count": 6,
   "metadata": {
    "id": "1qc1fG0OTzOq"
   },
   "outputs": [
    {
     "name": "stdout",
     "output_type": "stream",
     "text": [
      "Best Alpha:\n",
      "alpha: 0.001\n",
      "\n",
      "Grid Search Results:\n",
      "alpha: 1e-10\n",
      "mean accuracy: 0.8139999999999998\n",
      "\n",
      "alpha: 0.0001\n",
      "mean accuracy: 0.819\n",
      "\n",
      "alpha: 0.001\n",
      "mean accuracy: 0.825\n",
      "\n",
      "alpha: 0.01\n",
      "mean accuracy: 0.8219999999999998\n",
      "\n",
      "alpha: 0.1\n",
      "mean accuracy: 0.818\n",
      "\n",
      "alpha: 0.5\n",
      "mean accuracy: 0.8130000000000001\n",
      "\n",
      "alpha: 1.0\n",
      "mean accuracy: 0.8089999999999999\n",
      "\n",
      "alpha: 2.0\n",
      "mean accuracy: 0.8049999999999999\n",
      "\n",
      "alpha: 10.0\n",
      "mean accuracy: 0.783\n",
      "\n"
     ]
    }
   ],
   "source": [
    "def Q3(alphas):\n",
    "\n",
    "### STUDENT START ###\n",
    "\n",
    "    # create the model, plug into grid search, fit the search, return the scores\n",
    "    bnb_b = BernoulliNB(binarize = 0)\n",
    "    gs = GridSearchCV(bnb_b, alphas, cv=5, scoring='accuracy')\n",
    "    gs.fit(mini_train_data, mini_train_labels)\n",
    "    print('Best Alpha:')\n",
    "    print('alpha:',gs.best_params_['alpha'])\n",
    "    print()\n",
    "    means = gs.cv_results_['mean_test_score']\n",
    "    stds = gs.cv_results_['std_test_score']\n",
    "    print('Grid Search Results:')\n",
    "    \n",
    "    # zip print is easier than hard coding the prints\n",
    "    for i,j in zip(alphas['alpha'],means):\n",
    "        print('alpha:',i)\n",
    "        print('mean accuracy:',j)\n",
    "        print()\n",
    "\n",
    "### STUDENT END ###\n",
    "\n",
    "alphas = {'alpha': [1.0e-10, 0.0001, 0.001, 0.01, 0.1, 0.5, 1.0, 2.0, 10.0]}\n",
    "Q3(alphas)\n"
   ]
  },
  {
   "cell_type": "markdown",
   "metadata": {
    "id": "6g4fnGFPTzOq"
   },
   "source": [
    "ANSWER: The best value for alpha is 0.01. The accuracy when alpha is near zero is 0.807. This is what I would expect since even without smoothing the classifier returns decent results. "
   ]
  },
  {
   "cell_type": "markdown",
   "metadata": {
    "id": "aQ6MaDU6TzOr"
   },
   "source": [
    "### Question 4: Experimenting with Gaussian Naive Bayes\n",
    "---\n",
    "1. Produce a model using Gaussian Naive Bayes, which is intended for real-valued features, and evaluate performance. You will notice that it does not work so well. \n",
    "1. Diagnose and explain the problem.\n",
    "1. Apply a simple fix so that the model accuracy is around the same as for a Bernoulli Naive Bayes model. \n",
    "1. Show the model accuracy before your fix and the model accuracy after your fix.  \n",
    "1. Explain your solution.\n",
    "\n",
    "Notes:\n",
    "* Train on the mini train set.\n",
    "* Evaluate performance on the dev set.\n",
    "* Take a look at var_smoothing argument for GaussianNB.\n",
    "* Feel free to  examine theta and sigma to better understand what's happening. In general though, **it is not a good idea to mess with internal variables of the model**. These are stored in the model's `theta_` and `sigma_` attributes."
   ]
  },
  {
   "cell_type": "code",
   "execution_count": 81,
   "metadata": {
    "id": "XqW86YbKTzOr"
   },
   "outputs": [
    {
     "name": "stdout",
     "output_type": "stream",
     "text": [
      "Gaussian Naive Bayes (no fix)\n",
      "accuracy: 0.593\n",
      "\n",
      "Gaussian Naive Bayes (with var_smoothing = 0.09)\n",
      "accuracy: 0.817\n",
      "\n"
     ]
    }
   ],
   "source": [
    "def Q4():\n",
    "\n",
    "### STUDENT END ###\n",
    "\n",
    "    # create the model, fit the model, score the model\n",
    "    gnb = GaussianNB()\n",
    "    gnb.fit(mini_train_data, mini_train_labels)\n",
    "    accuracy_gnb = gnb.score(dev_data,dev_labels)\n",
    "    print('Gaussian Naive Bayes (no fix)')\n",
    "    print('accuracy:',accuracy_gnb)\n",
    "    print()\n",
    "\n",
    "    # create the model, fit the model, score the model\n",
    "    gnb = GaussianNB(var_smoothing=0.09)\n",
    "    gnb.fit(mini_train_data, mini_train_labels)\n",
    "    accuracy_gnb = gnb.score(dev_data,dev_labels)\n",
    "    print('Gaussian Naive Bayes (with var_smoothing = 0.09)')\n",
    "    print('accuracy:',accuracy_gnb)\n",
    "    print()\n",
    "\n",
    "### STUDENT END ###\n",
    "\n",
    "Q4()"
   ]
  },
  {
   "cell_type": "markdown",
   "metadata": {
    "id": "wE5eQXsPTzOs"
   },
   "source": [
    "ANSWER: Our distribution is a lot closer to a binomial distribution than a gaussian distribution. Thus in our Gaussian Naive Bayes model, values are thrown out as they do not follow the default gaussian distribution, they are not surrounding the mean, in our case the mean is likely close to zero. Increasing the var_smoothing parameter increases the variance of our assumed gaussian distribution, this allows for more of those non-zero digit containing pixel values to be included, increasing our accuracy."
   ]
  },
  {
   "cell_type": "markdown",
   "metadata": {
    "id": "AXx4SGNeTzOs"
   },
   "source": [
    "### Question 5: Naive Bayes as a generative model\n",
    "---\n",
    "Because Naive Bayes produces a generative model, you can use it to generate digit images.\n",
    "\n",
    "1. Produce a Bernoulli Naive Bayes model and then use it to generate a 10x10 grid with 10 example images of each digit. Each pixel output will be either 0 or 1: randomly generating a number and then comparing it to the estimated probability of the pixel being either 0 or 1.  Show the grid.\n",
    "1. How do the generated digit images compare to the training digit images?\n",
    "\n",
    "Notes:\n",
    "* You can use np.random.rand() to generate random numbers from a uniform distribution.\n",
    "* The estimated probability of each pixel being 0 or 1 is stored in the model's `feature_log_prob_` attribute. You can use `np.exp()` to convert a log probability back to a probability.\n",
    "\n"
   ]
  },
  {
   "cell_type": "code",
   "execution_count": 8,
   "metadata": {
    "id": "WDCNbv7ETzOt",
    "scrolled": false
   },
   "outputs": [
    {
     "name": "stdout",
     "output_type": "stream",
     "text": [
      "Accuracy: 0.83\n"
     ]
    },
    {
     "data": {
      "image/png": "[encoded data removed]",
      "text/plain": [
       "<Figure size 1440x1440 with 100 Axes>"
      ]
     },
     "metadata": {
      "needs_background": "light"
     },
     "output_type": "display_data"
    }
   ],
   "source": [
    "def Q5(num_examples):\n",
    "\n",
    "### STUDENT START ###\n",
    "    \n",
    "    # create the model, fit the model, score the model\n",
    "    bnb = BernoulliNB(binarize = 0.1, alpha = 0.01)\n",
    "    bnb.fit(mini_train_data, mini_train_labels)\n",
    "    accuracy_bnb = bnb.score(dev_data,dev_labels)\n",
    "    print('Accuracy:',accuracy_bnb)\n",
    "    \n",
    "    p=bnb.feature_log_prob_\n",
    "    \n",
    "    # loop to get array of arrays, 10 image, label pairs of each digit 0-9\n",
    "    # first loop just goes through digits 0-9\n",
    "    # second loop to iterate through img and digit label arrays\n",
    "    digits=[]\n",
    "    for k in range(10):\n",
    "        digit=[]\n",
    "        for i in range(10):\n",
    "            gen = np.exp(p[k]) - np.random.rand(784,)\n",
    "            gen[gen >= 0] = 1\n",
    "            gen[gen < 0] = 0\n",
    "            digit.append((gen,k))\n",
    "        digits.append(digit)\n",
    "    \n",
    "    # nested loops to iterate through digits arrays and plot onto subplots figure\n",
    "    # reference: https://matplotlib.org/stable/gallery/subplots_axes_and_figures/subplots_demo.html\n",
    "    plt.rcParams['figure.figsize'] = [num_examples*2, num_examples*2]\n",
    "    fig, axs = plt.subplots(10, num_examples)\n",
    "    for i in range(10):\n",
    "        for j in range(num_examples):\n",
    "            pixels = digits[i][j][0].reshape((28,28))\n",
    "            label = digits[i][j][1]\n",
    "            axs[i,j].imshow(pixels, cmap='gray')\n",
    "            axs[i,j].set_title(label)\n",
    "            # hide axis\n",
    "            axs[i,j].axes.get_xaxis().set_visible(False)\n",
    "            axs[i,j].axes.get_yaxis().set_visible(False)\n",
    "\n",
    "### STUDENT END ###\n",
    "\n",
    "Q5(10)"
   ]
  },
  {
   "cell_type": "markdown",
   "metadata": {
    "id": "2ENXdzngTzOu"
   },
   "source": [
    "ANSWER: They are like nebulous clouds that resemble the space the digits would typically occupy. They look like thicker pixelated versions of the digits."
   ]
  },
  {
   "cell_type": "markdown",
   "metadata": {
    "id": "CRkUEi50TzOu"
   },
   "source": [
    "### Question 6: Model Calibraiton\n",
    "---\n",
    "Recall that:\n",
    " * a **strongly calibrated** classifier is rougly 90% accurate when it says it is 90% accurate. The model's estimated posterior probability of the predicted class is indeed 0.9. \n",
    " * A **weakly calibrated** classifier is more accurate when it \"says\" it is more accurate. The actual accuracy is higher when the model's estimated posterior probability is higher.\n",
    " * A **poorly calibrated** classifier has no positive correlation between the model's estimate posterior probability and the actual accuracy.\n",
    "\n",
    "1. Produce a Bernoulli Naive Bayes model.  \n",
    "1. Evaluate performance: \n",
    "  1. Partition the dev set into several buckets based on the estimated posterior probabilities of the predicted classes (predict_proba)\n",
    "    - Think of it as a bin in a histogram, where each bin groups a range of estimated posterior probabilities of the predicted classes (predict_proba).\n",
    "    - Then estimate the actual accuracy the classifier achieved for each bucket. \n",
    "    - So, for each prediction:\n",
    "       - Find the bucket whose range includes the estimated posterior probability, \n",
    "       - and update \"correct\" and \"total\" counters accordingly. \n",
    "       - Show the accuracy for each bucket.\n",
    "1. How would you characterize the calibration for this Bernoulli Naive Bayes model according to the definitions above?\n",
    "\n",
    "Notes:\n",
    "* Set LaPlace smoothing (alpha) to the optimal value (from part 8).\n",
    "* Set binarization threshold to 0.\n",
    "* Train on the mini train set.\n",
    "* Evaluate perfromance on the dev set.\n",
    "\n"
   ]
  },
  {
   "cell_type": "code",
   "execution_count": 12,
   "metadata": {
    "id": "3Gz3NDY9TzOu"
   },
   "outputs": [
    {
     "name": "stdout",
     "output_type": "stream",
     "text": [
      "Model Accuracy: 0.824\n",
      "\n",
      "bucket: 0.5\n",
      "    correct: 0\n",
      "    total: 0\n",
      "    estimated accuracy 0\n",
      "\n",
      "bucket: 0.9\n",
      "    correct: 10\n",
      "    total: 30\n",
      "    estimated accuracy 0.33\n",
      "\n",
      "bucket: 0.999\n",
      "    correct: 31\n",
      "    total: 72\n",
      "    estimated accuracy 0.43\n",
      "\n",
      "bucket: 0.99999\n",
      "    correct: 30\n",
      "    total: 59\n",
      "    estimated accuracy 0.51\n",
      "\n",
      "bucket: 0.9999999\n",
      "    correct: 34\n",
      "    total: 51\n",
      "    estimated accuracy 0.67\n",
      "\n",
      "bucket: 0.999999999\n",
      "    correct: 42\n",
      "    total: 53\n",
      "    estimated accuracy 0.79\n",
      "\n",
      "bucket: 0.99999999999\n",
      "    correct: 26\n",
      "    total: 35\n",
      "    estimated accuracy 0.74\n",
      "\n",
      "bucket: 0.9999999999999\n",
      "    correct: 35\n",
      "    total: 46\n",
      "    estimated accuracy 0.76\n",
      "\n",
      "bucket: 1.0\n",
      "    correct: 616\n",
      "    total: 654\n",
      "    estimated accuracy 0.94\n",
      "\n"
     ]
    }
   ],
   "source": [
    "def Q6(buckets, correct, total):\n",
    "    \n",
    "### STUDENT START ###\n",
    "\n",
    "    # create the model, fit the model, score the model\n",
    "    bnb = BernoulliNB(binarize = 0, alpha = 0.01)\n",
    "    bnb.fit(mini_train_data, mini_train_labels)\n",
    "    accuracy_bnb = bnb.score(dev_data,dev_labels)\n",
    "    print('Model Accuracy:',accuracy_bnb)\n",
    "    print()\n",
    "    for post_prob,label in zip(bnb.predict_proba(dev_data),dev_labels):\n",
    "        \n",
    "        if (post_prob.max() < 0.5):\n",
    "            total[0]+=1\n",
    "            if str(post_prob.argmax()) == label:\n",
    "                correct[0]+=1\n",
    "                \n",
    "        elif (post_prob.max() < 0.9):\n",
    "            total[1]+=1\n",
    "            if str(post_prob.argmax()) == label:\n",
    "                correct[1]+=1\n",
    "                \n",
    "        elif (post_prob.max() < 0.999):\n",
    "            total[2]+=1\n",
    "            if str(post_prob.argmax()) == label:\n",
    "                correct[2]+=1\n",
    "                \n",
    "        elif (post_prob.max() < 0.99999):\n",
    "            total[3]+=1\n",
    "            if str(post_prob.argmax()) == label:\n",
    "                correct[3]+=1\n",
    "                \n",
    "        elif (post_prob.max() < 0.9999999):\n",
    "            total[4]+=1\n",
    "            if str(post_prob.argmax()) == label:\n",
    "                correct[4]+=1\n",
    "                \n",
    "        elif (post_prob.max() < 0.999999999):\n",
    "            total[5]+=1\n",
    "            if str(post_prob.argmax()) == label:\n",
    "                correct[5]+=1\n",
    "                \n",
    "        elif (post_prob.max() < 0.99999999999):\n",
    "            total[6]+=1\n",
    "            if str(post_prob.argmax()) == label:\n",
    "                correct[6]+=1\n",
    "                \n",
    "        elif (post_prob.max() < 0.9999999999999):\n",
    "            total[7]+=1\n",
    "            if str(post_prob.argmax()) == label:\n",
    "                correct[7]+=1\n",
    "        \n",
    "        elif (post_prob.max() <= 1.0):\n",
    "            total[8]+=1\n",
    "            if str(post_prob.argmax()) == label:\n",
    "                correct[8]+=1     \n",
    "    \n",
    "    for bucket in buckets:\n",
    "        print('bucket:',bucket)\n",
    "        print('    correct:',correct[buckets.index(bucket)])\n",
    "        print('    total:',total[buckets.index(bucket)])\n",
    "        try:\n",
    "            print('    estimated accuracy', round(correct[buckets.index(bucket)]/total[buckets.index(bucket)],2))\n",
    "        except:\n",
    "            print('    estimated accuracy', 0)\n",
    "        print()\n",
    "\n",
    "\n",
    "### STUDENT END ###\n",
    "\n",
    "buckets = [0.5, 0.9, 0.999, 0.99999, 0.9999999, 0.999999999, 0.99999999999, 0.9999999999999, 1.0]\n",
    "correct = [0 for i in buckets]\n",
    "total = [0 for i in buckets]\n",
    "\n",
    "Q6(buckets, correct, total)"
   ]
  },
  {
   "cell_type": "markdown",
   "metadata": {
    "id": "7PYLz-1STzOu"
   },
   "source": [
    "ANSWER: This is a weakly calibrated model. It is more accurate when it \"says\" it is more accurate. The actual accuracy is higher when the model's estimated posterior probability is higher."
   ]
  },
  {
   "cell_type": "markdown",
   "metadata": {
    "id": "tIeZGen1TzOv"
   },
   "source": [
    "### Question 7 EXTRA CREDIT: Feature generation\n",
    "---\n",
    "1. Design new features to see if you can produce a Bernoulli Naive Bayes model with better performance.\n",
    "1. Show the accuracy of a model based on the original features and the accuracy of the model based on the new features.\n",
    "\n",
    "**Note that improving results is actually hard.**\n",
    "\n",
    "Here are a few ideas to get you started:\n",
    "- Try summing or averaging the pixel values in each row.\n",
    "- Try summing or averaging the pixel values in each column.\n",
    "- Try summing or averaging the pixel values in each square block. (pick various block sizes)\n",
    "- Try implementing [*maxpool*](https://computersciencewiki.org/index.php/Max-pooling_/_Pooling) features, taking a rolling maximum over sub-regions of a the image. \n",
    "- In any case, you can either transform the original data or add new \"features\" to it.\n",
    "\n",
    "Notes:\n",
    "* Train on the mini train set (enhanced to comprise the new features).\n",
    "* Evaulate performance on the dev set.\n",
    "* Ensure that your code is well commented."
   ]
  },
  {
   "cell_type": "code",
   "execution_count": 78,
   "metadata": {
    "id": "6GtYu5ezTzOv"
   },
   "outputs": [
    {
     "name": "stdout",
     "output_type": "stream",
     "text": [
      "Original Accuracy: 0.838\n",
      "\n",
      "Blurred Pixels Accuracy: 0.836\n",
      "\n"
     ]
    }
   ],
   "source": [
    "def Q7():\n",
    "\n",
    "### STUDENT START ###\n",
    "\n",
    "    # fitting my models with filtered and unfiltered datasets\n",
    "    mini_train_data_gf = np.array([image_convolution(i.reshape((28,-1))).reshape(-1) for i in mini_train_data])\n",
    "    dev_data_gf = np.array([image_convolution(i.reshape((28,-1))).reshape(-1) for i in dev_data])\n",
    "    \n",
    "    # create the model, fit the model, score the model\n",
    "    bnb = BernoulliNB(binarize = 0.2, alpha = 0.001)\n",
    "    bnb.fit(mini_train_data, mini_train_labels)\n",
    "    accuracy_bnb = bnb.score(dev_data,dev_labels)\n",
    "    print('Original Accuracy:',accuracy_bnb)\n",
    "    print()\n",
    "    \n",
    "    # create the model, fit the model, score the model\n",
    "    bnb = BernoulliNB(binarize = 0.3, alpha = 0.001)\n",
    "    bnb.fit(mini_train_data_gf, mini_train_labels)\n",
    "    accuracy_bnb = bnb.score(dev_data_gf,dev_labels)\n",
    "    print('Blurred Pixels Accuracy:',accuracy_bnb)\n",
    "    print()\n",
    "\n",
    "def image_convolution(matrix, kernel=np.array([[.05,.1,.05],[.1,.4,.1],[.05,.1,.05]])):\n",
    "    # assuming kernel is symmetric and length is odd\n",
    "    k_size = len(kernel)\n",
    "    m_height, m_width = matrix.shape\n",
    "    padded = np.pad(matrix, (k_size-1, k_size-1))\n",
    "\n",
    "    # iterate though the padded matrix performing the convolution method detailed here:\n",
    "    # https://en.wikipedia.org/wiki/Kernel_(image_processing)#Convolution\n",
    "    output = []\n",
    "    for i in range(m_height):\n",
    "        for j in range(m_width):\n",
    "            output.append(np.sum(padded[i:k_size+i,j:k_size+j]*kernel))\n",
    "\n",
    "    output=np.array(output).reshape((m_height,m_width))\n",
    "    return output\n",
    "    \n",
    "### STUDENT END ###\n",
    "\n",
    "Q7()"
   ]
  },
  {
   "cell_type": "markdown",
   "metadata": {},
   "source": [
    "I could not produce an improved model with my feature engineering (blurred pixels), it's just very hard."
   ]
  },
  {
   "cell_type": "code",
   "execution_count": null,
   "metadata": {},
   "outputs": [],
   "source": []
  }
 ],
 "metadata": {
  "colab": {
   "collapsed_sections": [],
   "name": "firstname_lastname_project2.ipynb",
   "provenance": []
  },
  "kernelspec": {
   "display_name": "Python 3",
   "language": "python",
   "name": "python3"
  },
  "language_info": {
   "codemirror_mode": {
    "name": "ipython",
    "version": 3
   },
   "file_extension": ".py",
   "mimetype": "text/x-python",
   "name": "python",
   "nbconvert_exporter": "python",
   "pygments_lexer": "ipython3",
   "version": "3.8.5"
  },
  "toc": {
   "base_numbering": 1,
   "nav_menu": {},
   "number_sections": false,
   "sideBar": true,
   "skip_h1_title": true,
   "title_cell": "Table of Contents",
   "title_sidebar": "Contents",
   "toc_cell": false,
   "toc_position": {},
   "toc_section_display": true,
   "toc_window_display": false
  }
 },
 "nbformat": 4,
 "nbformat_minor": 1
}
